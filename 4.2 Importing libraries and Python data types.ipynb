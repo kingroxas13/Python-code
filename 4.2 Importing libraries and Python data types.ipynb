{
 "cells": [
  {
   "cell_type": "markdown",
   "id": "a375127d",
   "metadata": {},
   "source": [
    "#01. Importing libraries"
   ]
  },
  {
   "cell_type": "code",
   "execution_count": 2,
   "id": "2bb24780",
   "metadata": {},
   "outputs": [],
   "source": [
    "# Import libraries\n",
    "import pandas as pd\n",
    "import numpy as np\n",
    "import os"
   ]
  },
  {
   "cell_type": "code",
   "execution_count": 12,
   "id": "083886a2",
   "metadata": {},
   "outputs": [],
   "source": [
    "a = 80"
   ]
  },
  {
   "cell_type": "code",
   "execution_count": 13,
   "id": "a0033113",
   "metadata": {},
   "outputs": [],
   "source": [
    "b = 20"
   ]
  },
  {
   "cell_type": "code",
   "execution_count": 14,
   "id": "b2bbe478",
   "metadata": {},
   "outputs": [],
   "source": [
    "c = 70"
   ]
  },
  {
   "cell_type": "code",
   "execution_count": 15,
   "id": "03171829",
   "metadata": {},
   "outputs": [],
   "source": [
    "d = 30"
   ]
  },
  {
   "cell_type": "code",
   "execution_count": 16,
   "id": "416a81e4",
   "metadata": {},
   "outputs": [],
   "source": [
    "e = 90"
   ]
  },
  {
   "cell_type": "code",
   "execution_count": 17,
   "id": "f6317a21",
   "metadata": {},
   "outputs": [],
   "source": [
    "f = 10"
   ]
  },
  {
   "cell_type": "code",
   "execution_count": 18,
   "id": "9e310947",
   "metadata": {},
   "outputs": [
    {
     "data": {
      "text/plain": [
       "100"
      ]
     },
     "execution_count": 18,
     "metadata": {},
     "output_type": "execute_result"
    }
   ],
   "source": [
    "a + b"
   ]
  },
  {
   "cell_type": "code",
   "execution_count": 19,
   "id": "bb9db9e3",
   "metadata": {},
   "outputs": [
    {
     "data": {
      "text/plain": [
       "100"
      ]
     },
     "execution_count": 19,
     "metadata": {},
     "output_type": "execute_result"
    }
   ],
   "source": [
    "c + d"
   ]
  },
  {
   "cell_type": "code",
   "execution_count": 20,
   "id": "4ace5cb5",
   "metadata": {},
   "outputs": [
    {
     "data": {
      "text/plain": [
       "100"
      ]
     },
     "execution_count": 20,
     "metadata": {},
     "output_type": "execute_result"
    }
   ],
   "source": [
    "e + f"
   ]
  },
  {
   "cell_type": "code",
   "execution_count": 21,
   "id": "921af9ae",
   "metadata": {},
   "outputs": [],
   "source": [
    "g = 100.725"
   ]
  },
  {
   "cell_type": "code",
   "execution_count": 22,
   "id": "1819c0c4",
   "metadata": {},
   "outputs": [],
   "source": [
    "h = 200.986"
   ]
  },
  {
   "cell_type": "code",
   "execution_count": 24,
   "id": "e1c9c5a9",
   "metadata": {},
   "outputs": [
    {
     "data": {
      "text/plain": [
       "0.501154309255371"
      ]
     },
     "execution_count": 24,
     "metadata": {},
     "output_type": "execute_result"
    }
   ],
   "source": [
    "g / h"
   ]
  },
  {
   "cell_type": "code",
   "execution_count": 25,
   "id": "be3d32ac",
   "metadata": {},
   "outputs": [],
   "source": [
    "i = 'hello'"
   ]
  },
  {
   "cell_type": "code",
   "execution_count": 26,
   "id": "4d941fb2",
   "metadata": {},
   "outputs": [
    {
     "data": {
      "text/plain": [
       "'hello'"
      ]
     },
     "execution_count": 26,
     "metadata": {},
     "output_type": "execute_result"
    }
   ],
   "source": [
    "i"
   ]
  },
  {
   "cell_type": "code",
   "execution_count": 28,
   "id": "634cbc87",
   "metadata": {},
   "outputs": [],
   "source": [
    "j = 'How '"
   ]
  },
  {
   "cell_type": "code",
   "execution_count": 29,
   "id": "f952748a",
   "metadata": {},
   "outputs": [],
   "source": [
    "k = 'are '"
   ]
  },
  {
   "cell_type": "code",
   "execution_count": 30,
   "id": "1a4ed2ed",
   "metadata": {},
   "outputs": [],
   "source": [
    "l = 'you?'"
   ]
  },
  {
   "cell_type": "code",
   "execution_count": 31,
   "id": "fcce276d",
   "metadata": {},
   "outputs": [
    {
     "data": {
      "text/plain": [
       "'How are you?'"
      ]
     },
     "execution_count": 31,
     "metadata": {},
     "output_type": "execute_result"
    }
   ],
   "source": [
    "j + k + l"
   ]
  },
  {
   "cell_type": "code",
   "execution_count": 37,
   "id": "4c08571c",
   "metadata": {},
   "outputs": [],
   "source": [
    "m = 'I '"
   ]
  },
  {
   "cell_type": "code",
   "execution_count": 36,
   "id": "9acfaa90",
   "metadata": {},
   "outputs": [],
   "source": [
    "n = 'am '"
   ]
  },
  {
   "cell_type": "code",
   "execution_count": 34,
   "id": "bc2c7d55",
   "metadata": {},
   "outputs": [],
   "source": [
    "o = 'good,'"
   ]
  },
  {
   "cell_type": "code",
   "execution_count": 35,
   "id": "4ad3869f",
   "metadata": {},
   "outputs": [],
   "source": [
    "p = 'thank '"
   ]
  },
  {
   "cell_type": "code",
   "execution_count": 38,
   "id": "540a8047",
   "metadata": {},
   "outputs": [],
   "source": [
    "q = 'you.'"
   ]
  },
  {
   "cell_type": "code",
   "execution_count": 39,
   "id": "be4df2a4",
   "metadata": {},
   "outputs": [
    {
     "data": {
      "text/plain": [
       "'I am good,thank you.'"
      ]
     },
     "execution_count": 39,
     "metadata": {},
     "output_type": "execute_result"
    }
   ],
   "source": [
    "m + n + o + p + q"
   ]
  },
  {
   "cell_type": "code",
   "execution_count": 44,
   "id": "fe23f3f2",
   "metadata": {},
   "outputs": [],
   "source": [
    "r = 'seven'"
   ]
  },
  {
   "cell_type": "code",
   "execution_count": 45,
   "id": "3d112d20",
   "metadata": {},
   "outputs": [
    {
     "data": {
      "text/plain": [
       "'sevensevensevensevensevensevensevensevensevensevensevensevensevensevensevensevensevensevensevensevensevensevensevensevensevensevensevensevensevensevensevensevensevensevensevensevensevensevensevensevensevensevensevensevensevensevensevensevensevensevensevensevensevensevensevensevensevensevensevensevensevensevensevensevensevensevensevensevensevensevensevensevensevensevensevensevensevensevensevensevensevensevensevensevensevensevensevensevensevensevensevensevensevensevensevensevensevensevensevenseven'"
      ]
     },
     "execution_count": 45,
     "metadata": {},
     "output_type": "execute_result"
    }
   ],
   "source": [
    "r * 100"
   ]
  },
  {
   "cell_type": "code",
   "execution_count": null,
   "id": "a7c28f52",
   "metadata": {},
   "outputs": [],
   "source": []
  }
 ],
 "metadata": {
  "kernelspec": {
   "display_name": "Python 3 (ipykernel)",
   "language": "python",
   "name": "python3"
  },
  "language_info": {
   "codemirror_mode": {
    "name": "ipython",
    "version": 3
   },
   "file_extension": ".py",
   "mimetype": "text/x-python",
   "name": "python",
   "nbconvert_exporter": "python",
   "pygments_lexer": "ipython3",
   "version": "3.11.5"
  }
 },
 "nbformat": 4,
 "nbformat_minor": 5
}
